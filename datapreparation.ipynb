{
 "cells": [
  {
   "cell_type": "code",
<<<<<<< HEAD
   "execution_count": 1,
=======
   "execution_count": 63,
>>>>>>> 0c90ae6ec5c2919480225f367a237f4aa2d0e344
   "metadata": {},
   "outputs": [],
   "source": [
    "# Imports\n",
    "from pathlib import Path\n",
    "import os\n",
    "import rasterio\n",
    "from rasterio.windows import Window\n",
    "import PIL\n",
    "import torchvision\n",
    "import numpy\n",
    "import cv2\n",
    "import skimage\n",
    "from itertools import product\n",
    "import matplotlib.pyplot as plt\n",
    "import numpy as np\n",
    "from albumentations import PadIfNeeded\n",
    "import pandas as pd\n",
    "from tqdm import tqdm\n",
    "import shutil\n",
    "# from animaloc.data import ImageToPatches, PatchesBuffer, save_batch_images"
   ]
  },
  {
   "cell_type": "code",
<<<<<<< HEAD
   "execution_count": 2,
=======
   "execution_count": 67,
>>>>>>> 0c90ae6ec5c2919480225f367a237f4aa2d0e344
   "metadata": {},
   "outputs": [],
   "source": [
    "def save_patches(img_path:Path,dest_dir:Path,tilesize=512):\n",
    "\n",
    "    # create directory\n",
    "    if os.path.exists(dest_dir):\n",
    "        shutil.rmtree(dest_dir)\n",
    "        os.mkdir(dest_dir)\n",
    "        print(\"emptying directory:\", dest_dir)\n",
    "    else:\n",
    "        os.mkdir(dest_dir)\n",
    "        print(\"creating directory:\", dest_dir)\n",
    "    \n",
    "    # window reading with rasterio\n",
    "    handler = rasterio.open(img_path)\n",
    "    height, width = handler.meta['height'], handler.meta['width']\n",
    "    coordinates = dict()\n",
    "    count = 0\n",
    "    for i,j in tqdm(product(list(range(0,height,tilesize)),list(range(0,width,tilesize)))):\n",
    "        window = Window(j, i, tilesize, tilesize)\n",
    "        \n",
    "        try:\n",
    "            chunk = handler.read(window=window)\n",
    "            c,h,w = chunk.shape\n",
    "            xmin, xmax = j, j+w\n",
    "            ymin, ymax = i, i+h\n",
    "            x_center = 0.5*(xmin+xmax)\n",
    "            y_center = 0.5*(ymin+ymax)\n",
    "            n_unique = np.unique(chunk).size\n",
    "            if n_unique == 1:\n",
    "                continue\n",
    "            count += 1\n",
    "            filename = img_path.name.split('.')[0] + f\"-{j}-{i}.png\"\n",
    "            coordinates[count] = [xmin,xmax,ymin,ymax,x_center,y_center,filename]\n",
    "\n",
    "            # save to disk\n",
    "            chunk = np.transpose(chunk,(1,2,0))\n",
    "            skimage.io.imsave(dest_dir/filename,chunk)          \n",
    "                \n",
    "        except Exception as e:\n",
    "            print(\"Failed for\",(i,j),e)\n",
    "            pass\n",
    "\n",
    "    cols = ['xmin','xmax','ymin','ymax','x_center','y_center','filename']\n",
    "    coordinates = pd.DataFrame.from_dict(coordinates,\n",
    "                                        orient='index',\n",
    "                                        columns=cols)\n",
    "    coordinates.to_csv(dest_dir/f\"coordinates{img_path.name.split('.')[0]}.csv\",index=False)\n",
    "    handler.close()\n",
    "    return coordinates"
   ]
  },
  {
   "cell_type": "markdown",
   "metadata": {},
   "source": [
    "# Splitting data for annotation"
   ]
  },
  {
   "cell_type": "code",
<<<<<<< HEAD
   "execution_count": 3,
=======
   "execution_count": 69,
>>>>>>> 0c90ae6ec5c2919480225f367a237f4aa2d0e344
   "metadata": {},
   "outputs": [
    {
     "name": "stdout",
     "output_type": "stream",
     "text": [
<<<<<<< HEAD
      "creating directory: ../annotation_data/camp8/H20T_Orthomosaic_RGB\n"
=======
      "emptying directory: ../annotation_data/camp6/150m_RGB\n"
>>>>>>> 0c90ae6ec5c2919480225f367a237f4aa2d0e344
     ]
    },
    {
     "name": "stderr",
     "output_type": "stream",
     "text": [
<<<<<<< HEAD
      "0it [00:00, ?it/s]"
     ]
    },
    {
     "name": "stderr",
     "output_type": "stream",
     "text": [
      "161it [01:43,  6.05it/s]/tmp/ipykernel_18463/210691776.py:36: UserWarning: /home/ubuntu/workspace/annotation_data/camp8/H20T_Orthomosaic_RGB/H20T_Orthomosaic_RGB-8192-9216.png is a low contrast image\n",
      "  skimage.io.imsave(dest_dir/filename,chunk)\n",
      "170it [01:43,  1.65it/s]\n"
=======
      "126it [01:09,  1.82it/s]\n"
>>>>>>> 0c90ae6ec5c2919480225f367a237f4aa2d0e344
     ]
    }
   ],
   "source": [
    "# for datapath in Path(\"../annotation_data/camp6/\").iterdir():\n",
<<<<<<< HEAD
    "datapath = Path(\"../annotation_data/camp8/H20T_Orthomosaic_RGB.tif\")\n",
    "dest_dir = datapath.parent/(datapath.name.split('.')[0])\n",
    "coordinates =  save_patches(datapath,dest_dir,tilesize=1024)"
=======
    "datapath = Path(\"../annotation_data/camp6/150m_RGB.tif\")\n",
    "dest_dir = datapath.parent/(datapath.name.split('.')[0])\n",
    "# coordinates =  save_patches(datapath,dest_dir,tilesize=1024)"
>>>>>>> 0c90ae6ec5c2919480225f367a237f4aa2d0e344
   ]
  },
  {
   "cell_type": "code",
   "execution_count": 70,
   "metadata": {},
   "outputs": [
    {
     "data": {
      "text/html": [
       "<div>\n",
       "<style scoped>\n",
       "    .dataframe tbody tr th:only-of-type {\n",
       "        vertical-align: middle;\n",
       "    }\n",
       "\n",
       "    .dataframe tbody tr th {\n",
       "        vertical-align: top;\n",
       "    }\n",
       "\n",
       "    .dataframe thead th {\n",
       "        text-align: right;\n",
       "    }\n",
       "</style>\n",
       "<table border=\"1\" class=\"dataframe\">\n",
       "  <thead>\n",
       "    <tr style=\"text-align: right;\">\n",
       "      <th></th>\n",
       "      <th>xmin</th>\n",
       "      <th>xmax</th>\n",
       "      <th>ymin</th>\n",
       "      <th>ymax</th>\n",
       "      <th>x_center</th>\n",
       "      <th>y_center</th>\n",
       "      <th>filename</th>\n",
       "    </tr>\n",
       "  </thead>\n",
       "  <tbody>\n",
       "    <tr>\n",
       "      <th>1</th>\n",
       "      <td>0</td>\n",
       "      <td>1024</td>\n",
       "      <td>0</td>\n",
       "      <td>1024</td>\n",
       "      <td>512.0</td>\n",
       "      <td>512.0</td>\n",
       "      <td>150m_RGB-0-0.png</td>\n",
       "    </tr>\n",
       "    <tr>\n",
       "      <th>2</th>\n",
       "      <td>1024</td>\n",
       "      <td>2048</td>\n",
       "      <td>0</td>\n",
       "      <td>1024</td>\n",
       "      <td>1536.0</td>\n",
       "      <td>512.0</td>\n",
       "      <td>150m_RGB-1024-0.png</td>\n",
       "    </tr>\n",
       "    <tr>\n",
       "      <th>3</th>\n",
       "      <td>2048</td>\n",
       "      <td>3072</td>\n",
       "      <td>0</td>\n",
       "      <td>1024</td>\n",
       "      <td>2560.0</td>\n",
       "      <td>512.0</td>\n",
       "      <td>150m_RGB-2048-0.png</td>\n",
       "    </tr>\n",
       "    <tr>\n",
       "      <th>4</th>\n",
       "      <td>3072</td>\n",
       "      <td>4096</td>\n",
       "      <td>0</td>\n",
       "      <td>1024</td>\n",
       "      <td>3584.0</td>\n",
       "      <td>512.0</td>\n",
       "      <td>150m_RGB-3072-0.png</td>\n",
       "    </tr>\n",
       "    <tr>\n",
       "      <th>5</th>\n",
       "      <td>4096</td>\n",
       "      <td>5120</td>\n",
       "      <td>0</td>\n",
       "      <td>1024</td>\n",
       "      <td>4608.0</td>\n",
       "      <td>512.0</td>\n",
       "      <td>150m_RGB-4096-0.png</td>\n",
       "    </tr>\n",
       "    <tr>\n",
       "      <th>...</th>\n",
       "      <td>...</td>\n",
       "      <td>...</td>\n",
       "      <td>...</td>\n",
       "      <td>...</td>\n",
       "      <td>...</td>\n",
       "      <td>...</td>\n",
       "      <td>...</td>\n",
       "    </tr>\n",
       "    <tr>\n",
       "      <th>112</th>\n",
       "      <td>2048</td>\n",
       "      <td>3072</td>\n",
       "      <td>8192</td>\n",
       "      <td>8612</td>\n",
       "      <td>2560.0</td>\n",
       "      <td>8402.0</td>\n",
       "      <td>150m_RGB-2048-8192.png</td>\n",
       "    </tr>\n",
       "    <tr>\n",
       "      <th>113</th>\n",
       "      <td>3072</td>\n",
       "      <td>4096</td>\n",
       "      <td>8192</td>\n",
       "      <td>8612</td>\n",
       "      <td>3584.0</td>\n",
       "      <td>8402.0</td>\n",
       "      <td>150m_RGB-3072-8192.png</td>\n",
       "    </tr>\n",
       "    <tr>\n",
       "      <th>114</th>\n",
       "      <td>4096</td>\n",
       "      <td>5120</td>\n",
       "      <td>8192</td>\n",
       "      <td>8612</td>\n",
       "      <td>4608.0</td>\n",
       "      <td>8402.0</td>\n",
       "      <td>150m_RGB-4096-8192.png</td>\n",
       "    </tr>\n",
       "    <tr>\n",
       "      <th>115</th>\n",
       "      <td>5120</td>\n",
       "      <td>6144</td>\n",
       "      <td>8192</td>\n",
       "      <td>8612</td>\n",
       "      <td>5632.0</td>\n",
       "      <td>8402.0</td>\n",
       "      <td>150m_RGB-5120-8192.png</td>\n",
       "    </tr>\n",
       "    <tr>\n",
       "      <th>116</th>\n",
       "      <td>6144</td>\n",
       "      <td>7168</td>\n",
       "      <td>8192</td>\n",
       "      <td>8612</td>\n",
       "      <td>6656.0</td>\n",
       "      <td>8402.0</td>\n",
       "      <td>150m_RGB-6144-8192.png</td>\n",
       "    </tr>\n",
       "  </tbody>\n",
       "</table>\n",
       "<p>116 rows × 7 columns</p>\n",
       "</div>"
      ],
      "text/plain": [
       "     xmin  xmax  ymin  ymax  x_center  y_center                filename\n",
       "1       0  1024     0  1024     512.0     512.0        150m_RGB-0-0.png\n",
       "2    1024  2048     0  1024    1536.0     512.0     150m_RGB-1024-0.png\n",
       "3    2048  3072     0  1024    2560.0     512.0     150m_RGB-2048-0.png\n",
       "4    3072  4096     0  1024    3584.0     512.0     150m_RGB-3072-0.png\n",
       "5    4096  5120     0  1024    4608.0     512.0     150m_RGB-4096-0.png\n",
       "..    ...   ...   ...   ...       ...       ...                     ...\n",
       "112  2048  3072  8192  8612    2560.0    8402.0  150m_RGB-2048-8192.png\n",
       "113  3072  4096  8192  8612    3584.0    8402.0  150m_RGB-3072-8192.png\n",
       "114  4096  5120  8192  8612    4608.0    8402.0  150m_RGB-4096-8192.png\n",
       "115  5120  6144  8192  8612    5632.0    8402.0  150m_RGB-5120-8192.png\n",
       "116  6144  7168  8192  8612    6656.0    8402.0  150m_RGB-6144-8192.png\n",
       "\n",
       "[116 rows x 7 columns]"
      ]
     },
     "execution_count": 70,
     "metadata": {},
     "output_type": "execute_result"
    }
   ],
   "source": [
    "coordinates"
   ]
  },
  {
   "cell_type": "code",
   "execution_count": 21,
   "metadata": {},
   "outputs": [],
   "source": []
  },
  {
   "cell_type": "code",
   "execution_count": null,
   "metadata": {},
   "outputs": [],
   "source": []
  }
 ],
 "metadata": {
  "kernelspec": {
   "display_name": "herdnet",
   "language": "python",
   "name": "python3"
  },
  "language_info": {
   "codemirror_mode": {
    "name": "ipython",
    "version": 3
   },
   "file_extension": ".py",
   "mimetype": "text/x-python",
   "name": "python",
   "nbconvert_exporter": "python",
   "pygments_lexer": "ipython3",
   "version": "3.11.5"
  },
  "orig_nbformat": 4
 },
 "nbformat": 4,
 "nbformat_minor": 2
}
